{
 "cells": [
  {
   "cell_type": "code",
   "execution_count": 6,
   "metadata": {},
   "outputs": [],
   "source": [
    "import alpaca_trade_api as tradeapi\n",
    "import threading\n",
    "import time\n",
    "import datetime\n",
    "import requests, json\n",
    "from config import *"
   ]
  },
  {
   "cell_type": "code",
   "execution_count": 7,
   "metadata": {},
   "outputs": [],
   "source": [
    "BASE_URL = \"https://paper-api.alpaca.markets\"\n",
    "ACCOUNT_URL = \"{}/v2/account\".format(BASE_URL)\n",
    "ORDERS_URL = \"{}/v2/orders\".format(BASE_URL)\n",
    "HEADERS = {'APCA-API-KEY-ID': API_KEY, 'APCA-API-SECRET-KEY': SECRET_KEY}"
   ]
  },
  {
   "cell_type": "code",
   "execution_count": 8,
   "metadata": {},
   "outputs": [],
   "source": [
    "def get_account():\n",
    "    r = requests.get(ACCOUNT_URL, headers=HEADERS)\n",
    "    return json.loads(r.content)"
   ]
  },
  {
   "cell_type": "code",
   "execution_count": 10,
   "metadata": {},
   "outputs": [],
   "source": [
    "def create_order(symbol, qty, side, type, time_in_force):\n",
    "    data = {\n",
    "        \"symbol\": symbol,\n",
    "        \"qty\": qty,\n",
    "        \"side\": side,\n",
    "        \"type\": type,\n",
    "        \"time_in_force\": time_in_force\n",
    "    }\n",
    "\n",
    "    r = requests.post(ORDERS_URL, json=data, headers=HEADERS)\n",
    "\n",
    "    return json.loads(r.content)"
   ]
  },
  {
   "cell_type": "code",
   "execution_count": 11,
   "metadata": {},
   "outputs": [],
   "source": [
    "def get_orders():\n",
    "    r = requests.get(ORDERS_URL, headers=HEADERS)\n",
    "    return json.loads(r.content)"
   ]
  },
  {
   "cell_type": "code",
   "execution_count": 12,
   "metadata": {},
   "outputs": [
    {
     "name": "stdout",
     "output_type": "stream",
     "text": [
      "[{'id': '2e47fa5d-13c2-413e-a210-57d8034cee80', 'client_order_id': 'a71bc158-bb9e-4b61-943f-dc267884c0f8', 'created_at': '2020-08-17T02:17:26.431781Z', 'updated_at': '2020-08-17T02:17:26.431781Z', 'submitted_at': '2020-08-17T02:17:26.423108Z', 'filled_at': None, 'expired_at': None, 'canceled_at': None, 'failed_at': None, 'replaced_at': None, 'replaced_by': None, 'replaces': None, 'asset_id': 'b6d1aa75-5c9c-4353-a305-9e2caa1925ab', 'symbol': 'MSFT', 'asset_class': 'us_equity', 'qty': '1000', 'filled_qty': '0', 'filled_avg_price': None, 'order_class': '', 'order_type': 'market', 'type': 'market', 'side': 'buy', 'time_in_force': 'gtc', 'limit_price': None, 'stop_price': None, 'status': 'accepted', 'extended_hours': False, 'legs': None, 'trail_percent': None, 'trail_price': None, 'hwm': None}, {'id': 'a233998d-8ed3-4002-bea0-41a87a2df748', 'client_order_id': '7f9fa42a-304a-4474-bf9c-f5ac8245da5c', 'created_at': '2020-08-17T02:17:26.150021Z', 'updated_at': '2020-08-17T02:17:26.150021Z', 'submitted_at': '2020-08-17T02:17:26.140505Z', 'filled_at': None, 'expired_at': None, 'canceled_at': None, 'failed_at': None, 'replaced_at': None, 'replaced_by': None, 'replaces': None, 'asset_id': 'b0b6dd9d-8b9b-48a9-ba46-b9d54906e415', 'symbol': 'AAPL', 'asset_class': 'us_equity', 'qty': '100', 'filled_qty': '0', 'filled_avg_price': None, 'order_class': '', 'order_type': 'market', 'type': 'market', 'side': 'buy', 'time_in_force': 'gtc', 'limit_price': None, 'stop_price': None, 'status': 'accepted', 'extended_hours': False, 'legs': None, 'trail_percent': None, 'trail_price': None, 'hwm': None}, {'id': 'cdfeb093-9e71-4b8d-b461-14c8c16c008f', 'client_order_id': '6fafbb81-5c83-4d17-be70-b8d601aef8fa', 'created_at': '2020-08-16T19:35:08.827607Z', 'updated_at': '2020-08-16T19:35:08.827607Z', 'submitted_at': '2020-08-16T19:35:08.820033Z', 'filled_at': None, 'expired_at': None, 'canceled_at': None, 'failed_at': None, 'replaced_at': None, 'replaced_by': None, 'replaces': None, 'asset_id': 'fc6a5dcd-4a70-4b8d-b64f-d83a6dae9ba4', 'symbol': 'FB', 'asset_class': 'us_equity', 'qty': '10', 'filled_qty': '0', 'filled_avg_price': None, 'order_class': '', 'order_type': 'limit', 'type': 'limit', 'side': 'buy', 'time_in_force': 'day', 'limit_price': '180.15', 'stop_price': None, 'status': 'accepted', 'extended_hours': False, 'legs': None, 'trail_percent': None, 'trail_price': None, 'hwm': None}]\n"
     ]
    }
   ],
   "source": [
    "response = create_order(\"AAPL\", 100, \"buy\", \"market\", \"gtc\")\n",
    "response = create_order(\"MSFT\", 1000, \"buy\", \"market\", \"gtc\")\n",
    "\n",
    "orders = get_orders()\n",
    "\n",
    "print(orders)"
   ]
  },
  {
   "cell_type": "code",
   "execution_count": null,
   "metadata": {},
   "outputs": [],
   "source": []
  }
 ],
 "metadata": {
  "kernelspec": {
   "display_name": "Python 3",
   "language": "python",
   "name": "python3"
  },
  "language_info": {
   "codemirror_mode": {
    "name": "ipython",
    "version": 3
   },
   "file_extension": ".py",
   "mimetype": "text/x-python",
   "name": "python",
   "nbconvert_exporter": "python",
   "pygments_lexer": "ipython3",
   "version": "3.7.3"
  }
 },
 "nbformat": 4,
 "nbformat_minor": 2
}
