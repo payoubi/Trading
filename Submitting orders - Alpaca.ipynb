{
 "cells": [
  {
   "cell_type": "code",
   "execution_count": 1,
   "metadata": {},
   "outputs": [],
   "source": [
    "import alpaca_trade_api as tradeapi\n",
    "import threading\n",
    "import time\n",
    "import datetime\n",
    "import requests, json\n",
    "from config import *"
   ]
  },
  {
   "cell_type": "code",
   "execution_count": 2,
   "metadata": {},
   "outputs": [],
   "source": [
    "BASE_URL = \"https://paper-api.alpaca.markets\"\n",
    "ACCOUNT_URL = \"{}/v2/account\".format(BASE_URL)\n",
    "ORDERS_URL = \"{}/v2/orders\".format(BASE_URL)\n",
    "HEADERS = {'APCA-API-KEY-ID': API_KEY, 'APCA-API-SECRET-KEY': SECRET_KEY}"
   ]
  },
  {
   "cell_type": "code",
   "execution_count": 3,
   "metadata": {},
   "outputs": [],
   "source": [
    "def get_account():\n",
    "    r = requests.get(ACCOUNT_URL, headers=HEADERS)\n",
    "    return json.loads(r.content)"
   ]
  },
  {
   "cell_type": "code",
   "execution_count": 4,
   "metadata": {},
   "outputs": [],
   "source": [
    "def create_order(symbol, qty, side, type, time_in_force):\n",
    "    data = {\n",
    "        \"symbol\": symbol,\n",
    "        \"qty\": qty,\n",
    "        \"side\": side,\n",
    "        \"type\": type,\n",
    "        \"time_in_force\": time_in_force\n",
    "    }\n",
    "\n",
    "    r = requests.post(ORDERS_URL, json=data, headers=HEADERS)\n",
    "\n",
    "    return json.loads(r.content)"
   ]
  },
  {
   "cell_type": "code",
   "execution_count": 5,
   "metadata": {},
   "outputs": [],
   "source": [
    "def get_orders():\n",
    "    r = requests.get(ORDERS_URL, headers=HEADERS)\n",
    "    return json.loads(r.content)"
   ]
  },
  {
   "cell_type": "code",
   "execution_count": 6,
   "metadata": {},
   "outputs": [],
   "source": [
    "response = create_order(\"AAPL\", 100, \"buy\", \"market\", \"gtc\")\n",
    "response = create_order(\"MSFT\", 1000, \"buy\", \"market\", \"gtc\")\n",
    "\n",
    "orders = get_orders()\n",
    "\n",
    "print(orders)"
   ]
  },
  {
   "cell_type": "code",
   "execution_count": null,
   "metadata": {},
   "outputs": [],
   "source": []
  }
 ],
 "metadata": {
  "kernelspec": {
   "display_name": "Python 3",
   "language": "python",
   "name": "python3"
  },
  "language_info": {
   "codemirror_mode": {
    "name": "ipython",
    "version": 3
   },
   "file_extension": ".py",
   "mimetype": "text/x-python",
   "name": "python",
   "nbconvert_exporter": "python",
   "pygments_lexer": "ipython3",
   "version": "3.7.3"
  }
 },
 "nbformat": 4,
 "nbformat_minor": 2
}
